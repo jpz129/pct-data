{
 "cells": [
  {
   "cell_type": "code",
   "execution_count": 2,
   "metadata": {},
   "outputs": [
    {
     "data": {
      "text/html": [
       "<div>\n",
       "<style scoped>\n",
       "    .dataframe tbody tr th:only-of-type {\n",
       "        vertical-align: middle;\n",
       "    }\n",
       "\n",
       "    .dataframe tbody tr th {\n",
       "        vertical-align: top;\n",
       "    }\n",
       "\n",
       "    .dataframe thead th {\n",
       "        text-align: right;\n",
       "    }\n",
       "</style>\n",
       "<table border=\"1\" class=\"dataframe\">\n",
       "  <thead>\n",
       "    <tr style=\"text-align: right;\">\n",
       "      <th></th>\n",
       "      <th>time</th>\n",
       "      <th>human_date</th>\n",
       "      <th>human_time</th>\n",
       "      <th>seconds_delta</th>\n",
       "      <th>latitude</th>\n",
       "      <th>longitude</th>\n",
       "      <th>altitude_feet</th>\n",
       "      <th>distance_feet</th>\n",
       "      <th>speed_mph</th>\n",
       "      <th>altitude_change</th>\n",
       "    </tr>\n",
       "  </thead>\n",
       "  <tbody>\n",
       "    <tr>\n",
       "      <th>0</th>\n",
       "      <td>2023-02-08 14:15:48-08:00</td>\n",
       "      <td>2023-02-08</td>\n",
       "      <td>02:15:48 PM</td>\n",
       "      <td>125</td>\n",
       "      <td>45.575537</td>\n",
       "      <td>-122.128037</td>\n",
       "      <td>121</td>\n",
       "      <td>11.8</td>\n",
       "      <td>0.1</td>\n",
       "      <td>-9.0</td>\n",
       "    </tr>\n",
       "    <tr>\n",
       "      <th>1</th>\n",
       "      <td>2023-02-08 14:17:53-08:00</td>\n",
       "      <td>2023-02-08</td>\n",
       "      <td>02:17:53 PM</td>\n",
       "      <td>16</td>\n",
       "      <td>45.575509</td>\n",
       "      <td>-122.128014</td>\n",
       "      <td>112</td>\n",
       "      <td>55.8</td>\n",
       "      <td>2.4</td>\n",
       "      <td>6.0</td>\n",
       "    </tr>\n",
       "    <tr>\n",
       "      <th>2</th>\n",
       "      <td>2023-02-08 14:18:09-08:00</td>\n",
       "      <td>2023-02-08</td>\n",
       "      <td>02:18:09 PM</td>\n",
       "      <td>8</td>\n",
       "      <td>45.575361</td>\n",
       "      <td>-122.128069</td>\n",
       "      <td>118</td>\n",
       "      <td>20.7</td>\n",
       "      <td>1.8</td>\n",
       "      <td>3.0</td>\n",
       "    </tr>\n",
       "    <tr>\n",
       "      <th>3</th>\n",
       "      <td>2023-02-08 14:18:17-08:00</td>\n",
       "      <td>2023-02-08</td>\n",
       "      <td>02:18:17 PM</td>\n",
       "      <td>4</td>\n",
       "      <td>45.575330</td>\n",
       "      <td>-122.128137</td>\n",
       "      <td>121</td>\n",
       "      <td>14.2</td>\n",
       "      <td>2.4</td>\n",
       "      <td>10.0</td>\n",
       "    </tr>\n",
       "    <tr>\n",
       "      <th>4</th>\n",
       "      <td>2023-02-08 14:18:21-08:00</td>\n",
       "      <td>2023-02-08</td>\n",
       "      <td>02:18:21 PM</td>\n",
       "      <td>3</td>\n",
       "      <td>45.575291</td>\n",
       "      <td>-122.128134</td>\n",
       "      <td>131</td>\n",
       "      <td>11.2</td>\n",
       "      <td>2.5</td>\n",
       "      <td>0.0</td>\n",
       "    </tr>\n",
       "  </tbody>\n",
       "</table>\n",
       "</div>"
      ],
      "text/plain": [
       "                        time  human_date   human_time  seconds_delta  \\\n",
       "0  2023-02-08 14:15:48-08:00  2023-02-08  02:15:48 PM            125   \n",
       "1  2023-02-08 14:17:53-08:00  2023-02-08  02:17:53 PM             16   \n",
       "2  2023-02-08 14:18:09-08:00  2023-02-08  02:18:09 PM              8   \n",
       "3  2023-02-08 14:18:17-08:00  2023-02-08  02:18:17 PM              4   \n",
       "4  2023-02-08 14:18:21-08:00  2023-02-08  02:18:21 PM              3   \n",
       "\n",
       "    latitude   longitude  altitude_feet  distance_feet  speed_mph  \\\n",
       "0  45.575537 -122.128037            121           11.8        0.1   \n",
       "1  45.575509 -122.128014            112           55.8        2.4   \n",
       "2  45.575361 -122.128069            118           20.7        1.8   \n",
       "3  45.575330 -122.128137            121           14.2        2.4   \n",
       "4  45.575291 -122.128134            131           11.2        2.5   \n",
       "\n",
       "   altitude_change  \n",
       "0             -9.0  \n",
       "1              6.0  \n",
       "2              3.0  \n",
       "3             10.0  \n",
       "4              0.0  "
      ]
     },
     "execution_count": 2,
     "metadata": {},
     "output_type": "execute_result"
    }
   ],
   "source": [
    "import pandas as pd\n",
    "df = pd.read_csv('../data/update1/2023-02-07 16:07:44-08:00---2023-02-20 17:06:38-08:00.csv')\n",
    "df.head()"
   ]
  },
  {
   "cell_type": "code",
   "execution_count": 3,
   "metadata": {},
   "outputs": [],
   "source": [
    "import sys\n",
    "df.head().to_clipboard()"
   ]
  },
  {
   "cell_type": "code",
   "execution_count": 4,
   "metadata": {},
   "outputs": [
    {
     "data": {
      "text/plain": [
       "55.25"
      ]
     },
     "execution_count": 4,
     "metadata": {},
     "output_type": "execute_result"
    }
   ],
   "source": [
    "miles = round(df['distance_feet'].sum() / 5280, 2)\n",
    "miles"
   ]
  },
  {
   "cell_type": "code",
   "execution_count": 5,
   "metadata": {},
   "outputs": [
    {
     "data": {
      "text/plain": [
       "14"
      ]
     },
     "execution_count": 5,
     "metadata": {},
     "output_type": "execute_result"
    }
   ],
   "source": [
    "tracked_days = len(df['human_date'].unique())\n",
    "tracked_days"
   ]
  },
  {
   "cell_type": "code",
   "execution_count": 6,
   "metadata": {},
   "outputs": [
    {
     "data": {
      "text/plain": [
       "-32.0"
      ]
     },
     "execution_count": 6,
     "metadata": {},
     "output_type": "execute_result"
    }
   ],
   "source": [
    "elevation =  df['altitude_change'].sum()\n",
    "elevation"
   ]
  },
  {
   "cell_type": "code",
   "execution_count": 33,
   "metadata": {},
   "outputs": [
    {
     "data": {
      "text/html": [
       "<div>\n",
       "<style scoped>\n",
       "    .dataframe tbody tr th:only-of-type {\n",
       "        vertical-align: middle;\n",
       "    }\n",
       "\n",
       "    .dataframe tbody tr th {\n",
       "        vertical-align: top;\n",
       "    }\n",
       "\n",
       "    .dataframe thead th {\n",
       "        text-align: right;\n",
       "    }\n",
       "</style>\n",
       "<table border=\"1\" class=\"dataframe\">\n",
       "  <thead>\n",
       "    <tr style=\"text-align: right;\">\n",
       "      <th></th>\n",
       "      <th>human_date</th>\n",
       "      <th>minutes_delta</th>\n",
       "      <th>distance_miles</th>\n",
       "    </tr>\n",
       "  </thead>\n",
       "  <tbody>\n",
       "    <tr>\n",
       "      <th>0</th>\n",
       "      <td>2023-02-07</td>\n",
       "      <td>68.466667</td>\n",
       "      <td>3.098314</td>\n",
       "    </tr>\n",
       "    <tr>\n",
       "      <th>1</th>\n",
       "      <td>2023-02-08</td>\n",
       "      <td>150.433333</td>\n",
       "      <td>5.105720</td>\n",
       "    </tr>\n",
       "    <tr>\n",
       "      <th>2</th>\n",
       "      <td>2023-02-09</td>\n",
       "      <td>65.750000</td>\n",
       "      <td>2.975966</td>\n",
       "    </tr>\n",
       "    <tr>\n",
       "      <th>3</th>\n",
       "      <td>2023-02-10</td>\n",
       "      <td>71.600000</td>\n",
       "      <td>3.425227</td>\n",
       "    </tr>\n",
       "    <tr>\n",
       "      <th>4</th>\n",
       "      <td>2023-02-11</td>\n",
       "      <td>41.466667</td>\n",
       "      <td>2.005966</td>\n",
       "    </tr>\n",
       "    <tr>\n",
       "      <th>5</th>\n",
       "      <td>2023-02-12</td>\n",
       "      <td>82.950000</td>\n",
       "      <td>4.057595</td>\n",
       "    </tr>\n",
       "    <tr>\n",
       "      <th>6</th>\n",
       "      <td>2023-02-13</td>\n",
       "      <td>228.083333</td>\n",
       "      <td>7.544337</td>\n",
       "    </tr>\n",
       "    <tr>\n",
       "      <th>7</th>\n",
       "      <td>2023-02-14</td>\n",
       "      <td>59.083333</td>\n",
       "      <td>2.762576</td>\n",
       "    </tr>\n",
       "    <tr>\n",
       "      <th>8</th>\n",
       "      <td>2023-02-15</td>\n",
       "      <td>4.733333</td>\n",
       "      <td>0.263826</td>\n",
       "    </tr>\n",
       "    <tr>\n",
       "      <th>9</th>\n",
       "      <td>2023-02-16</td>\n",
       "      <td>85.333333</td>\n",
       "      <td>3.467727</td>\n",
       "    </tr>\n",
       "    <tr>\n",
       "      <th>10</th>\n",
       "      <td>2023-02-17</td>\n",
       "      <td>195.700000</td>\n",
       "      <td>8.309186</td>\n",
       "    </tr>\n",
       "    <tr>\n",
       "      <th>11</th>\n",
       "      <td>2023-02-18</td>\n",
       "      <td>24.916667</td>\n",
       "      <td>1.090492</td>\n",
       "    </tr>\n",
       "    <tr>\n",
       "      <th>12</th>\n",
       "      <td>2023-02-19</td>\n",
       "      <td>60.316667</td>\n",
       "      <td>2.270530</td>\n",
       "    </tr>\n",
       "    <tr>\n",
       "      <th>13</th>\n",
       "      <td>2023-02-20</td>\n",
       "      <td>388.883333</td>\n",
       "      <td>8.870246</td>\n",
       "    </tr>\n",
       "  </tbody>\n",
       "</table>\n",
       "</div>"
      ],
      "text/plain": [
       "    human_date  minutes_delta  distance_miles\n",
       "0   2023-02-07      68.466667        3.098314\n",
       "1   2023-02-08     150.433333        5.105720\n",
       "2   2023-02-09      65.750000        2.975966\n",
       "3   2023-02-10      71.600000        3.425227\n",
       "4   2023-02-11      41.466667        2.005966\n",
       "5   2023-02-12      82.950000        4.057595\n",
       "6   2023-02-13     228.083333        7.544337\n",
       "7   2023-02-14      59.083333        2.762576\n",
       "8   2023-02-15       4.733333        0.263826\n",
       "9   2023-02-16      85.333333        3.467727\n",
       "10  2023-02-17     195.700000        8.309186\n",
       "11  2023-02-18      24.916667        1.090492\n",
       "12  2023-02-19      60.316667        2.270530\n",
       "13  2023-02-20     388.883333        8.870246"
      ]
     },
     "execution_count": 33,
     "metadata": {},
     "output_type": "execute_result"
    }
   ],
   "source": [
    "grouped = df.groupby('human_date')[['seconds_delta', 'distance_feet']].sum().reset_index()\n",
    "grouped['minutes_delta'] = grouped['seconds_delta'] / 60\n",
    "grouped['distance_miles'] = grouped['distance_feet'] / 5280\n",
    "grouped.drop(['seconds_delta', 'distance_feet'], axis=1, inplace=True)\n",
    "grouped"
   ]
  },
  {
   "cell_type": "code",
   "execution_count": 8,
   "metadata": {},
   "outputs": [],
   "source": [
    "grouped.to_clipboard()"
   ]
  },
  {
   "cell_type": "code",
   "execution_count": 32,
   "metadata": {},
   "outputs": [
    {
     "data": {
      "text/plain": [
       "{'45.27, -121.93',\n",
       " '45.27, -121.94',\n",
       " '45.28, -121.94',\n",
       " '45.29, -121.94',\n",
       " '45.3, -121.94',\n",
       " '45.31, -121.94',\n",
       " '45.5, -122.61',\n",
       " '45.5, -122.62',\n",
       " '45.5, -122.63',\n",
       " '45.51, -122.59',\n",
       " '45.51, -122.6',\n",
       " '45.51, -122.61',\n",
       " '45.51, -122.62',\n",
       " '45.51, -122.63',\n",
       " '45.52, -122.59',\n",
       " '45.52, -122.6',\n",
       " '45.57, -122.11',\n",
       " '45.57, -122.12',\n",
       " '45.57, -122.13',\n",
       " '45.58, -122.13',\n",
       " '45.61, -121.88',\n",
       " '45.61, -121.89',\n",
       " '45.61, -123.46',\n",
       " '45.61, -123.47',\n",
       " '45.61, -123.48',\n",
       " '45.62, -121.89',\n",
       " '45.62, -121.9',\n",
       " '45.62, -123.47',\n",
       " '45.62, -123.48',\n",
       " '45.62, -123.49',\n",
       " '45.62, -123.5',\n",
       " '45.63, -121.89',\n",
       " '45.63, -121.9',\n",
       " '45.63, -121.91',\n",
       " '45.63, -121.92',\n",
       " '45.63, -123.48',\n",
       " '45.63, -123.49',\n",
       " '45.63, -123.5',\n",
       " '45.64, -121.92'}"
      ]
     },
     "execution_count": 32,
     "metadata": {},
     "output_type": "execute_result"
    }
   ],
   "source": [
    "locs = df[['latitude', 'longitude']]\n",
    "locs = locs.apply(round, ndigits=1)\n",
    "lat_lons = []\n",
    "for lat, lon in zip(locs.latitude.values, locs.longitude.values):\n",
    "    lat_lons.append(f'{lat}, {lon}')\n",
    "set(lat_lons)"
   ]
  },
  {
   "cell_type": "code",
   "execution_count": null,
   "metadata": {},
   "outputs": [],
   "source": []
  }
 ],
 "metadata": {
  "kernelspec": {
   "display_name": "pct-data",
   "language": "python",
   "name": "python3"
  },
  "language_info": {
   "codemirror_mode": {
    "name": "ipython",
    "version": 3
   },
   "file_extension": ".py",
   "mimetype": "text/x-python",
   "name": "python",
   "nbconvert_exporter": "python",
   "pygments_lexer": "ipython3",
   "version": "3.9.15"
  },
  "orig_nbformat": 4,
  "vscode": {
   "interpreter": {
    "hash": "f25b31f77028b9856839ce8173764232847ad5be047687884ca3f9a9e6cda770"
   }
  }
 },
 "nbformat": 4,
 "nbformat_minor": 2
}
