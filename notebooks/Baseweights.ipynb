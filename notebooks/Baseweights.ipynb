{
 "cells": [
  {
   "cell_type": "code",
   "execution_count": 19,
   "metadata": {},
   "outputs": [
    {
     "data": {
      "text/html": [
       "<div>\n",
       "<style scoped>\n",
       "    .dataframe tbody tr th:only-of-type {\n",
       "        vertical-align: middle;\n",
       "    }\n",
       "\n",
       "    .dataframe tbody tr th {\n",
       "        vertical-align: top;\n",
       "    }\n",
       "\n",
       "    .dataframe thead th {\n",
       "        text-align: right;\n",
       "    }\n",
       "</style>\n",
       "<table border=\"1\" class=\"dataframe\">\n",
       "  <thead>\n",
       "    <tr style=\"text-align: right;\">\n",
       "      <th></th>\n",
       "      <th>BASE WEIGHTS</th>\n",
       "      <th>year</th>\n",
       "      <th>THRU-1</th>\n",
       "    </tr>\n",
       "  </thead>\n",
       "  <tbody>\n",
       "    <tr>\n",
       "      <th>0</th>\n",
       "      <td>START</td>\n",
       "      <td>2022</td>\n",
       "      <td>16.27</td>\n",
       "    </tr>\n",
       "    <tr>\n",
       "      <th>1</th>\n",
       "      <td>END</td>\n",
       "      <td>2022</td>\n",
       "      <td>14.73</td>\n",
       "    </tr>\n",
       "    <tr>\n",
       "      <th>2</th>\n",
       "      <td>CHANGE</td>\n",
       "      <td>2022</td>\n",
       "      <td>1.54</td>\n",
       "    </tr>\n",
       "    <tr>\n",
       "      <th>3</th>\n",
       "      <td>START</td>\n",
       "      <td>2021</td>\n",
       "      <td>17.07</td>\n",
       "    </tr>\n",
       "    <tr>\n",
       "      <th>4</th>\n",
       "      <td>END</td>\n",
       "      <td>2021</td>\n",
       "      <td>14.77</td>\n",
       "    </tr>\n",
       "  </tbody>\n",
       "</table>\n",
       "</div>"
      ],
      "text/plain": [
       "  BASE WEIGHTS  year THRU-1\n",
       "0        START  2022  16.27\n",
       "1          END  2022  14.73\n",
       "2       CHANGE  2022   1.54\n",
       "3        START  2021  17.07\n",
       "4          END  2021  14.77"
      ]
     },
     "execution_count": 19,
     "metadata": {},
     "output_type": "execute_result"
    }
   ],
   "source": [
    "import pandas as pd\n",
    "df = pd.read_csv('../data/raw_baseweights.csv')\n",
    "df.to_clipboard()\n",
    "df.head()"
   ]
  },
  {
   "cell_type": "code",
   "execution_count": 20,
   "metadata": {},
   "outputs": [],
   "source": [
    "# pivot the data frame\n",
    "pivoted_df = df.pivot(index=\"year\", columns=\"BASE WEIGHTS\", values=\"THRU-1\")\n",
    "\n",
    "# # rename the columns\n",
    "# pivoted_df.columns = [\"start\", \"end\", \"change\"]\n",
    "\n",
    "# reset the index to make the \"year\" column a regular column\n",
    "pivoted_df.reset_index(inplace=True)\n",
    "\n",
    "# # add a new \"year\" column to match the desired output format\n",
    "# pivoted_df[\"year\"] = pivoted_df[\"year\"].apply(lambda x: f\"{x}-01-01\")\n",
    "\n",
    "# reorder the columns to match the desired output format\n",
    "# pivoted_df = pivoted_df[[\"year\", \"start\", \"end\", \"change\"]]\n",
    "\n",
    "# print the pivoted data frame\n",
    "pivoted_df.to_clipboard()"
   ]
  },
  {
   "cell_type": "code",
   "execution_count": 21,
   "metadata": {},
   "outputs": [
    {
     "data": {
      "text/html": [
       "<div>\n",
       "<style scoped>\n",
       "    .dataframe tbody tr th:only-of-type {\n",
       "        vertical-align: middle;\n",
       "    }\n",
       "\n",
       "    .dataframe tbody tr th {\n",
       "        vertical-align: top;\n",
       "    }\n",
       "\n",
       "    .dataframe thead th {\n",
       "        text-align: right;\n",
       "    }\n",
       "</style>\n",
       "<table border=\"1\" class=\"dataframe\">\n",
       "  <thead>\n",
       "    <tr style=\"text-align: right;\">\n",
       "      <th>BASE WEIGHTS</th>\n",
       "      <th>year</th>\n",
       "      <th>CHANGE</th>\n",
       "      <th>END</th>\n",
       "      <th>START</th>\n",
       "    </tr>\n",
       "  </thead>\n",
       "  <tbody>\n",
       "    <tr>\n",
       "      <th>0</th>\n",
       "      <td>2016</td>\n",
       "      <td>3.64</td>\n",
       "      <td>16.20</td>\n",
       "      <td>19.84</td>\n",
       "    </tr>\n",
       "    <tr>\n",
       "      <th>1</th>\n",
       "      <td>2017</td>\n",
       "      <td>2.95</td>\n",
       "      <td>16.54</td>\n",
       "      <td>19.49</td>\n",
       "    </tr>\n",
       "    <tr>\n",
       "      <th>2</th>\n",
       "      <td>2018</td>\n",
       "      <td>2.35</td>\n",
       "      <td>15.28</td>\n",
       "      <td>17.63</td>\n",
       "    </tr>\n",
       "    <tr>\n",
       "      <th>3</th>\n",
       "      <td>2019</td>\n",
       "      <td>2.87</td>\n",
       "      <td>14.91</td>\n",
       "      <td>17.78</td>\n",
       "    </tr>\n",
       "    <tr>\n",
       "      <th>4</th>\n",
       "      <td>2020</td>\n",
       "      <td>2.01</td>\n",
       "      <td>16.94</td>\n",
       "      <td>18.95</td>\n",
       "    </tr>\n",
       "    <tr>\n",
       "      <th>5</th>\n",
       "      <td>2021</td>\n",
       "      <td>2.30</td>\n",
       "      <td>14.77</td>\n",
       "      <td>17.07</td>\n",
       "    </tr>\n",
       "    <tr>\n",
       "      <th>6</th>\n",
       "      <td>2022</td>\n",
       "      <td>1.54</td>\n",
       "      <td>14.73</td>\n",
       "      <td>16.27</td>\n",
       "    </tr>\n",
       "  </tbody>\n",
       "</table>\n",
       "</div>"
      ],
      "text/plain": [
       "BASE WEIGHTS  year CHANGE    END  START\n",
       "0             2016   3.64  16.20  19.84\n",
       "1             2017   2.95  16.54  19.49\n",
       "2             2018   2.35  15.28  17.63\n",
       "3             2019  2.87   14.91  17.78\n",
       "4             2020   2.01  16.94  18.95\n",
       "5             2021   2.30  14.77  17.07\n",
       "6             2022   1.54  14.73  16.27"
      ]
     },
     "execution_count": 21,
     "metadata": {},
     "output_type": "execute_result"
    }
   ],
   "source": [
    "pivoted_df"
   ]
  },
  {
   "cell_type": "code",
   "execution_count": null,
   "metadata": {},
   "outputs": [],
   "source": []
  }
 ],
 "metadata": {
  "kernelspec": {
   "display_name": "pct-data",
   "language": "python",
   "name": "python3"
  },
  "language_info": {
   "codemirror_mode": {
    "name": "ipython",
    "version": 3
   },
   "file_extension": ".py",
   "mimetype": "text/x-python",
   "name": "python",
   "nbconvert_exporter": "python",
   "pygments_lexer": "ipython3",
   "version": "3.9.15"
  },
  "orig_nbformat": 4,
  "vscode": {
   "interpreter": {
    "hash": "f25b31f77028b9856839ce8173764232847ad5be047687884ca3f9a9e6cda770"
   }
  }
 },
 "nbformat": 4,
 "nbformat_minor": 2
}
